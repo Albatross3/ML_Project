{
  "nbformat": 4,
  "nbformat_minor": 0,
  "metadata": {
    "colab": {
      "name": "Clustering_LDJ",
      "provenance": [],
      "collapsed_sections": [],
      "include_colab_link": true
    },
    "kernelspec": {
      "display_name": "Python 3",
      "name": "python3"
    },
    "language_info": {
      "name": "python"
    }
  },
  "cells": [
    {
      "cell_type": "markdown",
      "metadata": {
        "id": "view-in-github",
        "colab_type": "text"
      },
      "source": [
        "<a href=\"https://colab.research.google.com/github/Albatross3/ML_Project/blob/main/Clustering_LDJ.ipynb\" target=\"_parent\"><img src=\"https://colab.research.google.com/assets/colab-badge.svg\" alt=\"Open In Colab\"/></a>"
      ]
    },
    {
      "cell_type": "code",
      "metadata": {
        "id": "H-P6SCGnjvgw"
      },
      "source": [
        "from google.colab import drive\n",
        "import pandas as pd\n",
        "import pickle as pk\n",
        "import numpy as np"
      ],
      "execution_count": null,
      "outputs": []
    },
    {
      "cell_type": "code",
      "metadata": {
        "colab": {
          "base_uri": "https://localhost:8080/",
          "height": 380
        },
        "id": "l-j2WiG8j3j7",
        "outputId": "9fae79c6-f27e-4ff8-fd84-44d84f9c23c3"
      },
      "source": [
        "!pip install pandas==1.3.5"
      ],
      "execution_count": null,
      "outputs": [
        {
          "output_type": "stream",
          "name": "stdout",
          "text": [
            "Collecting pandas==1.3.5\n",
            "  Downloading pandas-1.3.5-cp37-cp37m-manylinux_2_17_x86_64.manylinux2014_x86_64.whl (11.3 MB)\n",
            "\u001b[K     |████████████████████████████████| 11.3 MB 5.4 MB/s \n",
            "\u001b[?25hRequirement already satisfied: pytz>=2017.3 in /usr/local/lib/python3.7/dist-packages (from pandas==1.3.5) (2018.9)\n",
            "Requirement already satisfied: python-dateutil>=2.7.3 in /usr/local/lib/python3.7/dist-packages (from pandas==1.3.5) (2.8.2)\n",
            "Requirement already satisfied: numpy>=1.17.3 in /usr/local/lib/python3.7/dist-packages (from pandas==1.3.5) (1.19.5)\n",
            "Requirement already satisfied: six>=1.5 in /usr/local/lib/python3.7/dist-packages (from python-dateutil>=2.7.3->pandas==1.3.5) (1.15.0)\n",
            "Installing collected packages: pandas\n",
            "  Attempting uninstall: pandas\n",
            "    Found existing installation: pandas 1.1.5\n",
            "    Uninstalling pandas-1.1.5:\n",
            "      Successfully uninstalled pandas-1.1.5\n",
            "\u001b[31mERROR: pip's dependency resolver does not currently take into account all the packages that are installed. This behaviour is the source of the following dependency conflicts.\n",
            "google-colab 1.0.0 requires pandas~=1.1.0; python_version >= \"3.0\", but you have pandas 1.3.5 which is incompatible.\u001b[0m\n",
            "Successfully installed pandas-1.3.5\n"
          ]
        },
        {
          "output_type": "display_data",
          "data": {
            "application/vnd.colab-display-data+json": {
              "pip_warning": {
                "packages": [
                  "pandas"
                ]
              }
            }
          },
          "metadata": {}
        }
      ]
    },
    {
      "cell_type": "code",
      "metadata": {
        "colab": {
          "base_uri": "https://localhost:8080/"
        },
        "id": "5fXhAhy7VFAV",
        "outputId": "5dc35041-1f49-47a0-8f99-f24e16820844"
      },
      "source": [
        "drive.mount('/content/drive')"
      ],
      "execution_count": null,
      "outputs": [
        {
          "output_type": "stream",
          "name": "stdout",
          "text": [
            "Drive already mounted at /content/drive; to attempt to forcibly remount, call drive.mount(\"/content/drive\", force_remount=True).\n"
          ]
        }
      ]
    },
    {
      "cell_type": "code",
      "metadata": {
        "colab": {
          "base_uri": "https://localhost:8080/",
          "height": 35
        },
        "id": "qXxWUqWnkG8b",
        "outputId": "1d997f8e-0ac8-4fc2-fee4-41a685ab8eec"
      },
      "source": [
        "pd.__version__"
      ],
      "execution_count": null,
      "outputs": [
        {
          "output_type": "execute_result",
          "data": {
            "application/vnd.google.colaboratory.intrinsic+json": {
              "type": "string"
            },
            "text/plain": [
              "'1.3.5'"
            ]
          },
          "metadata": {},
          "execution_count": 3
        }
      ]
    },
    {
      "cell_type": "code",
      "metadata": {
        "id": "y2Wdn1CTWCpQ"
      },
      "source": [
        "ROOT = '/content/drive/MyDrive/Colab Notebooks/ML_Project/'"
      ],
      "execution_count": null,
      "outputs": []
    },
    {
      "cell_type": "code",
      "metadata": {
        "colab": {
          "base_uri": "https://localhost:8080/",
          "height": 423
        },
        "id": "heNJAW5skMb0",
        "outputId": "06342e81-27db-4db5-c719-ddaaf71bc625"
      },
      "source": [
        "data=pd.DataFrame()\n",
        "f=open(f\"{ROOT}final3.pkl\",\"rb\")\n",
        "data=pk.load(f)\n",
        "data"
      ],
      "execution_count": null,
      "outputs": [
        {
          "output_type": "execute_result",
          "data": {
            "text/html": [
              "\n",
              "  <div id=\"df-c4b0ae02-6dd7-4562-940c-e0d2a2d1c2e4\">\n",
              "    <div class=\"colab-df-container\">\n",
              "      <div>\n",
              "<style scoped>\n",
              "    .dataframe tbody tr th:only-of-type {\n",
              "        vertical-align: middle;\n",
              "    }\n",
              "\n",
              "    .dataframe tbody tr th {\n",
              "        vertical-align: top;\n",
              "    }\n",
              "\n",
              "    .dataframe thead th {\n",
              "        text-align: right;\n",
              "    }\n",
              "</style>\n",
              "<table border=\"1\" class=\"dataframe\">\n",
              "  <thead>\n",
              "    <tr style=\"text-align: right;\">\n",
              "      <th></th>\n",
              "      <th>혼인</th>\n",
              "      <th>이혼</th>\n",
              "      <th>출생</th>\n",
              "      <th>사망</th>\n",
              "      <th>통화량</th>\n",
              "      <th>유치원 수</th>\n",
              "      <th>사설학원 수(인구 1000명당)</th>\n",
              "      <th>순이동</th>\n",
              "      <th>자가용(합계)</th>\n",
              "      <th>이륜차(자가용)</th>\n",
              "      <th>누적 보관소</th>\n",
              "      <th>누적 거치대</th>\n",
              "      <th>누적 노래방 수</th>\n",
              "      <th>누적 영화관 수</th>\n",
              "      <th>누적 pc방 수</th>\n",
              "      <th>동물병원</th>\n",
              "      <th>병원</th>\n",
              "      <th>약국</th>\n",
              "      <th>의원</th>\n",
              "      <th>휴게음식점</th>\n",
              "      <th>일반음식점</th>\n",
              "      <th>학교</th>\n",
              "    </tr>\n",
              "  </thead>\n",
              "  <tbody>\n",
              "    <tr>\n",
              "      <th>2014.01/강남구</th>\n",
              "      <td>299</td>\n",
              "      <td>71</td>\n",
              "      <td>425</td>\n",
              "      <td>150</td>\n",
              "      <td>1937045.6</td>\n",
              "      <td>40</td>\n",
              "      <td>3.7</td>\n",
              "      <td>75</td>\n",
              "      <td>212,483</td>\n",
              "      <td>16,586</td>\n",
              "      <td>0</td>\n",
              "      <td>0</td>\n",
              "      <td>322</td>\n",
              "      <td>85</td>\n",
              "      <td>167</td>\n",
              "      <td>72</td>\n",
              "      <td>64</td>\n",
              "      <td>372</td>\n",
              "      <td>2322</td>\n",
              "      <td>2685</td>\n",
              "      <td>10946</td>\n",
              "      <td>82</td>\n",
              "    </tr>\n",
              "    <tr>\n",
              "      <th>2014.01/강동구</th>\n",
              "      <td>260</td>\n",
              "      <td>65</td>\n",
              "      <td>379</td>\n",
              "      <td>186</td>\n",
              "      <td>1937045.6</td>\n",
              "      <td>39</td>\n",
              "      <td>1.5</td>\n",
              "      <td>-461</td>\n",
              "      <td>131,229</td>\n",
              "      <td>17,240</td>\n",
              "      <td>0</td>\n",
              "      <td>0</td>\n",
              "      <td>281</td>\n",
              "      <td>19</td>\n",
              "      <td>196</td>\n",
              "      <td>38</td>\n",
              "      <td>28</td>\n",
              "      <td>225</td>\n",
              "      <td>695</td>\n",
              "      <td>704</td>\n",
              "      <td>4097</td>\n",
              "      <td>60</td>\n",
              "    </tr>\n",
              "    <tr>\n",
              "      <th>2014.01/강북구</th>\n",
              "      <td>164</td>\n",
              "      <td>54</td>\n",
              "      <td>217</td>\n",
              "      <td>167</td>\n",
              "      <td>1937045.6</td>\n",
              "      <td>24</td>\n",
              "      <td>0.7</td>\n",
              "      <td>-539</td>\n",
              "      <td>69,277</td>\n",
              "      <td>21,686</td>\n",
              "      <td>0</td>\n",
              "      <td>0</td>\n",
              "      <td>345</td>\n",
              "      <td>15</td>\n",
              "      <td>335</td>\n",
              "      <td>21</td>\n",
              "      <td>16</td>\n",
              "      <td>163</td>\n",
              "      <td>403</td>\n",
              "      <td>373</td>\n",
              "      <td>3723</td>\n",
              "      <td>37</td>\n",
              "    </tr>\n",
              "    <tr>\n",
              "      <th>2014.01/강서구</th>\n",
              "      <td>358</td>\n",
              "      <td>99</td>\n",
              "      <td>543</td>\n",
              "      <td>218</td>\n",
              "      <td>1937045.6</td>\n",
              "      <td>46</td>\n",
              "      <td>1.1</td>\n",
              "      <td>-201</td>\n",
              "      <td>161,207</td>\n",
              "      <td>17,890</td>\n",
              "      <td>0</td>\n",
              "      <td>0</td>\n",
              "      <td>338</td>\n",
              "      <td>18</td>\n",
              "      <td>195</td>\n",
              "      <td>43</td>\n",
              "      <td>31</td>\n",
              "      <td>226</td>\n",
              "      <td>641</td>\n",
              "      <td>866</td>\n",
              "      <td>4636</td>\n",
              "      <td>85</td>\n",
              "    </tr>\n",
              "    <tr>\n",
              "      <th>2014.01/관악구</th>\n",
              "      <td>309</td>\n",
              "      <td>69</td>\n",
              "      <td>398</td>\n",
              "      <td>176</td>\n",
              "      <td>1937045.6</td>\n",
              "      <td>36</td>\n",
              "      <td>0.9</td>\n",
              "      <td>-641</td>\n",
              "      <td>112,704</td>\n",
              "      <td>23,920</td>\n",
              "      <td>0</td>\n",
              "      <td>0</td>\n",
              "      <td>320</td>\n",
              "      <td>13</td>\n",
              "      <td>224</td>\n",
              "      <td>26</td>\n",
              "      <td>10</td>\n",
              "      <td>216</td>\n",
              "      <td>650</td>\n",
              "      <td>678</td>\n",
              "      <td>4451</td>\n",
              "      <td>59</td>\n",
              "    </tr>\n",
              "    <tr>\n",
              "      <th>...</th>\n",
              "      <td>...</td>\n",
              "      <td>...</td>\n",
              "      <td>...</td>\n",
              "      <td>...</td>\n",
              "      <td>...</td>\n",
              "      <td>...</td>\n",
              "      <td>...</td>\n",
              "      <td>...</td>\n",
              "      <td>...</td>\n",
              "      <td>...</td>\n",
              "      <td>...</td>\n",
              "      <td>...</td>\n",
              "      <td>...</td>\n",
              "      <td>...</td>\n",
              "      <td>...</td>\n",
              "      <td>...</td>\n",
              "      <td>...</td>\n",
              "      <td>...</td>\n",
              "      <td>...</td>\n",
              "      <td>...</td>\n",
              "      <td>...</td>\n",
              "      <td>...</td>\n",
              "    </tr>\n",
              "    <tr>\n",
              "      <th>2020.12/용산구</th>\n",
              "      <td>106</td>\n",
              "      <td>37</td>\n",
              "      <td>93</td>\n",
              "      <td>117</td>\n",
              "      <td>3197671.2</td>\n",
              "      <td>13</td>\n",
              "      <td>0.7</td>\n",
              "      <td>-86</td>\n",
              "      <td>76,624</td>\n",
              "      <td>16,570</td>\n",
              "      <td>80</td>\n",
              "      <td>975</td>\n",
              "      <td>80</td>\n",
              "      <td>28</td>\n",
              "      <td>25</td>\n",
              "      <td>29</td>\n",
              "      <td>3</td>\n",
              "      <td>131</td>\n",
              "      <td>314</td>\n",
              "      <td>1019</td>\n",
              "      <td>4675</td>\n",
              "      <td>39</td>\n",
              "    </tr>\n",
              "    <tr>\n",
              "      <th>2020.12/은평구</th>\n",
              "      <td>218</td>\n",
              "      <td>65</td>\n",
              "      <td>165</td>\n",
              "      <td>201</td>\n",
              "      <td>3197671.2</td>\n",
              "      <td>42</td>\n",
              "      <td>1.1</td>\n",
              "      <td>-756</td>\n",
              "      <td>124,829</td>\n",
              "      <td>21,150</td>\n",
              "      <td>80</td>\n",
              "      <td>927</td>\n",
              "      <td>207</td>\n",
              "      <td>24</td>\n",
              "      <td>410</td>\n",
              "      <td>39</td>\n",
              "      <td>24</td>\n",
              "      <td>213</td>\n",
              "      <td>657</td>\n",
              "      <td>1227</td>\n",
              "      <td>3703</td>\n",
              "      <td>69</td>\n",
              "    </tr>\n",
              "    <tr>\n",
              "      <th>2020.12/종로구</th>\n",
              "      <td>53</td>\n",
              "      <td>23</td>\n",
              "      <td>29</td>\n",
              "      <td>77</td>\n",
              "      <td>3197671.2</td>\n",
              "      <td>17</td>\n",
              "      <td>1.6</td>\n",
              "      <td>-95</td>\n",
              "      <td>44,697</td>\n",
              "      <td>12,762</td>\n",
              "      <td>101</td>\n",
              "      <td>1153</td>\n",
              "      <td>103</td>\n",
              "      <td>36</td>\n",
              "      <td>44</td>\n",
              "      <td>15</td>\n",
              "      <td>8</td>\n",
              "      <td>181</td>\n",
              "      <td>483</td>\n",
              "      <td>1696</td>\n",
              "      <td>7124</td>\n",
              "      <td>47</td>\n",
              "    </tr>\n",
              "    <tr>\n",
              "      <th>2020.12/중구</th>\n",
              "      <td>74</td>\n",
              "      <td>19</td>\n",
              "      <td>40</td>\n",
              "      <td>67</td>\n",
              "      <td>3197671.2</td>\n",
              "      <td>14</td>\n",
              "      <td>0.9</td>\n",
              "      <td>-253</td>\n",
              "      <td>45,710</td>\n",
              "      <td>14,188</td>\n",
              "      <td>78</td>\n",
              "      <td>931</td>\n",
              "      <td>75</td>\n",
              "      <td>56</td>\n",
              "      <td>169</td>\n",
              "      <td>17</td>\n",
              "      <td>12</td>\n",
              "      <td>168</td>\n",
              "      <td>544</td>\n",
              "      <td>2289</td>\n",
              "      <td>6273</td>\n",
              "      <td>36</td>\n",
              "    </tr>\n",
              "    <tr>\n",
              "      <th>2020.12/중랑구</th>\n",
              "      <td>176</td>\n",
              "      <td>66</td>\n",
              "      <td>145</td>\n",
              "      <td>194</td>\n",
              "      <td>3197671.2</td>\n",
              "      <td>29</td>\n",
              "      <td>0.7</td>\n",
              "      <td>-455</td>\n",
              "      <td>104,250</td>\n",
              "      <td>24,630</td>\n",
              "      <td>70</td>\n",
              "      <td>828</td>\n",
              "      <td>338</td>\n",
              "      <td>22</td>\n",
              "      <td>369</td>\n",
              "      <td>32</td>\n",
              "      <td>20</td>\n",
              "      <td>183</td>\n",
              "      <td>511</td>\n",
              "      <td>898</td>\n",
              "      <td>3727</td>\n",
              "      <td>47</td>\n",
              "    </tr>\n",
              "  </tbody>\n",
              "</table>\n",
              "<p>2100 rows × 22 columns</p>\n",
              "</div>\n",
              "      <button class=\"colab-df-convert\" onclick=\"convertToInteractive('df-c4b0ae02-6dd7-4562-940c-e0d2a2d1c2e4')\"\n",
              "              title=\"Convert this dataframe to an interactive table.\"\n",
              "              style=\"display:none;\">\n",
              "        \n",
              "  <svg xmlns=\"http://www.w3.org/2000/svg\" height=\"24px\"viewBox=\"0 0 24 24\"\n",
              "       width=\"24px\">\n",
              "    <path d=\"M0 0h24v24H0V0z\" fill=\"none\"/>\n",
              "    <path d=\"M18.56 5.44l.94 2.06.94-2.06 2.06-.94-2.06-.94-.94-2.06-.94 2.06-2.06.94zm-11 1L8.5 8.5l.94-2.06 2.06-.94-2.06-.94L8.5 2.5l-.94 2.06-2.06.94zm10 10l.94 2.06.94-2.06 2.06-.94-2.06-.94-.94-2.06-.94 2.06-2.06.94z\"/><path d=\"M17.41 7.96l-1.37-1.37c-.4-.4-.92-.59-1.43-.59-.52 0-1.04.2-1.43.59L10.3 9.45l-7.72 7.72c-.78.78-.78 2.05 0 2.83L4 21.41c.39.39.9.59 1.41.59.51 0 1.02-.2 1.41-.59l7.78-7.78 2.81-2.81c.8-.78.8-2.07 0-2.86zM5.41 20L4 18.59l7.72-7.72 1.47 1.35L5.41 20z\"/>\n",
              "  </svg>\n",
              "      </button>\n",
              "      \n",
              "  <style>\n",
              "    .colab-df-container {\n",
              "      display:flex;\n",
              "      flex-wrap:wrap;\n",
              "      gap: 12px;\n",
              "    }\n",
              "\n",
              "    .colab-df-convert {\n",
              "      background-color: #E8F0FE;\n",
              "      border: none;\n",
              "      border-radius: 50%;\n",
              "      cursor: pointer;\n",
              "      display: none;\n",
              "      fill: #1967D2;\n",
              "      height: 32px;\n",
              "      padding: 0 0 0 0;\n",
              "      width: 32px;\n",
              "    }\n",
              "\n",
              "    .colab-df-convert:hover {\n",
              "      background-color: #E2EBFA;\n",
              "      box-shadow: 0px 1px 2px rgba(60, 64, 67, 0.3), 0px 1px 3px 1px rgba(60, 64, 67, 0.15);\n",
              "      fill: #174EA6;\n",
              "    }\n",
              "\n",
              "    [theme=dark] .colab-df-convert {\n",
              "      background-color: #3B4455;\n",
              "      fill: #D2E3FC;\n",
              "    }\n",
              "\n",
              "    [theme=dark] .colab-df-convert:hover {\n",
              "      background-color: #434B5C;\n",
              "      box-shadow: 0px 1px 3px 1px rgba(0, 0, 0, 0.15);\n",
              "      filter: drop-shadow(0px 1px 2px rgba(0, 0, 0, 0.3));\n",
              "      fill: #FFFFFF;\n",
              "    }\n",
              "  </style>\n",
              "\n",
              "      <script>\n",
              "        const buttonEl =\n",
              "          document.querySelector('#df-c4b0ae02-6dd7-4562-940c-e0d2a2d1c2e4 button.colab-df-convert');\n",
              "        buttonEl.style.display =\n",
              "          google.colab.kernel.accessAllowed ? 'block' : 'none';\n",
              "\n",
              "        async function convertToInteractive(key) {\n",
              "          const element = document.querySelector('#df-c4b0ae02-6dd7-4562-940c-e0d2a2d1c2e4');\n",
              "          const dataTable =\n",
              "            await google.colab.kernel.invokeFunction('convertToInteractive',\n",
              "                                                     [key], {});\n",
              "          if (!dataTable) return;\n",
              "\n",
              "          const docLinkHtml = 'Like what you see? Visit the ' +\n",
              "            '<a target=\"_blank\" href=https://colab.research.google.com/notebooks/data_table.ipynb>data table notebook</a>'\n",
              "            + ' to learn more about interactive tables.';\n",
              "          element.innerHTML = '';\n",
              "          dataTable['output_type'] = 'display_data';\n",
              "          await google.colab.output.renderOutput(dataTable, element);\n",
              "          const docLink = document.createElement('div');\n",
              "          docLink.innerHTML = docLinkHtml;\n",
              "          element.appendChild(docLink);\n",
              "        }\n",
              "      </script>\n",
              "    </div>\n",
              "  </div>\n",
              "  "
            ],
            "text/plain": [
              "              혼인  이혼   출생   사망        통화량  ...   약국    의원 휴게음식점  일반음식점  학교\n",
              "2014.01/강남구  299  71  425  150  1937045.6  ...  372  2322  2685  10946  82\n",
              "2014.01/강동구  260  65  379  186  1937045.6  ...  225   695   704   4097  60\n",
              "2014.01/강북구  164  54  217  167  1937045.6  ...  163   403   373   3723  37\n",
              "2014.01/강서구  358  99  543  218  1937045.6  ...  226   641   866   4636  85\n",
              "2014.01/관악구  309  69  398  176  1937045.6  ...  216   650   678   4451  59\n",
              "...          ...  ..  ...  ...        ...  ...  ...   ...   ...    ...  ..\n",
              "2020.12/용산구  106  37   93  117  3197671.2  ...  131   314  1019   4675  39\n",
              "2020.12/은평구  218  65  165  201  3197671.2  ...  213   657  1227   3703  69\n",
              "2020.12/종로구   53  23   29   77  3197671.2  ...  181   483  1696   7124  47\n",
              "2020.12/중구    74  19   40   67  3197671.2  ...  168   544  2289   6273  36\n",
              "2020.12/중랑구  176  66  145  194  3197671.2  ...  183   511   898   3727  47\n",
              "\n",
              "[2100 rows x 22 columns]"
            ]
          },
          "metadata": {},
          "execution_count": 5
        }
      ]
    },
    {
      "cell_type": "markdown",
      "metadata": {
        "id": "94Pxz4sGlUGx"
      },
      "source": [
        "#전처리 과정\n",
        "object type을 int type으로 변환\n",
        "standardization(표준화)"
      ]
    },
    {
      "cell_type": "code",
      "metadata": {
        "colab": {
          "base_uri": "https://localhost:8080/"
        },
        "id": "9GXDS4OjqTKt",
        "outputId": "3b6cf23d-5046-45c1-bf68-853355e8e23d"
      },
      "source": [
        "data.info()"
      ],
      "execution_count": null,
      "outputs": [
        {
          "output_type": "stream",
          "name": "stdout",
          "text": [
            "<class 'pandas.core.frame.DataFrame'>\n",
            "Index: 2100 entries, 2014.01/강남구 to 2020.12/중랑구\n",
            "Data columns (total 22 columns):\n",
            " #   Column             Non-Null Count  Dtype  \n",
            "---  ------             --------------  -----  \n",
            " 0   혼인                 2100 non-null   int64  \n",
            " 1   이혼                 2100 non-null   int64  \n",
            " 2   출생                 2100 non-null   int64  \n",
            " 3   사망                 2100 non-null   int64  \n",
            " 4   통화량                2100 non-null   float64\n",
            " 5   유치원 수              2100 non-null   int64  \n",
            " 6   사설학원 수(인구 1000명당)  2100 non-null   float64\n",
            " 7   순이동                2100 non-null   object \n",
            " 8   자가용(합계)            2100 non-null   object \n",
            " 9   이륜차(자가용)           2100 non-null   object \n",
            " 10  누적 보관소             2100 non-null   int64  \n",
            " 11  누적 거치대             2100 non-null   int64  \n",
            " 12  누적 노래방 수           2100 non-null   int64  \n",
            " 13  누적 영화관 수           2100 non-null   int64  \n",
            " 14  누적 pc방 수           2100 non-null   int64  \n",
            " 15  동물병원               2100 non-null   int64  \n",
            " 16  병원                 2100 non-null   int64  \n",
            " 17  약국                 2100 non-null   int64  \n",
            " 18  의원                 2100 non-null   int64  \n",
            " 19  휴게음식점              2100 non-null   int64  \n",
            " 20  일반음식점              2100 non-null   int64  \n",
            " 21  학교                 2100 non-null   int64  \n",
            "dtypes: float64(2), int64(17), object(3)\n",
            "memory usage: 377.3+ KB\n"
          ]
        }
      ]
    },
    {
      "cell_type": "code",
      "metadata": {
        "id": "1TGM9rJkk2MR"
      },
      "source": [
        "data['순이동'] = data['순이동'].apply(lambda x: x.replace(',', ''))\n",
        "data['자가용(합계)']=data['자가용(합계)'].apply(lambda x: x.replace(',', ''))\n",
        "data['이륜차(자가용)']=data['이륜차(자가용)'].apply(lambda x: x.replace(',', ''))"
      ],
      "execution_count": null,
      "outputs": []
    },
    {
      "cell_type": "code",
      "metadata": {
        "id": "P5JcPU1OlKim"
      },
      "source": [
        "data['자가용(합계)']=data['자가용(합계)'].astype(int)\n",
        "data['이륜차(자가용)']=data['이륜차(자가용)'].astype(int)"
      ],
      "execution_count": null,
      "outputs": []
    },
    {
      "cell_type": "code",
      "metadata": {
        "id": "1-VrD9oplTQ2"
      },
      "source": [
        "#결측치 값 수정\n",
        "data.loc[\"2018.03/영등포구\", \"순이동\"] = '-208'\n",
        "data['순이동']=data['순이동'].astype(int)"
      ],
      "execution_count": null,
      "outputs": []
    },
    {
      "cell_type": "code",
      "metadata": {
        "colab": {
          "base_uri": "https://localhost:8080/"
        },
        "id": "NIGoby5FnBcc",
        "outputId": "5e2ad0ef-4282-4e0f-8101-b99ad551123a"
      },
      "source": [
        "data.info()"
      ],
      "execution_count": null,
      "outputs": [
        {
          "output_type": "stream",
          "name": "stdout",
          "text": [
            "<class 'pandas.core.frame.DataFrame'>\n",
            "Index: 2100 entries, 2014.01/강남구 to 2020.12/중랑구\n",
            "Data columns (total 22 columns):\n",
            " #   Column             Non-Null Count  Dtype  \n",
            "---  ------             --------------  -----  \n",
            " 0   혼인                 2100 non-null   int64  \n",
            " 1   이혼                 2100 non-null   int64  \n",
            " 2   출생                 2100 non-null   int64  \n",
            " 3   사망                 2100 non-null   int64  \n",
            " 4   통화량                2100 non-null   float64\n",
            " 5   유치원 수              2100 non-null   int64  \n",
            " 6   사설학원 수(인구 1000명당)  2100 non-null   float64\n",
            " 7   순이동                2100 non-null   int64  \n",
            " 8   자가용(합계)            2100 non-null   int64  \n",
            " 9   이륜차(자가용)           2100 non-null   int64  \n",
            " 10  누적 보관소             2100 non-null   int64  \n",
            " 11  누적 거치대             2100 non-null   int64  \n",
            " 12  누적 노래방 수           2100 non-null   int64  \n",
            " 13  누적 영화관 수           2100 non-null   int64  \n",
            " 14  누적 pc방 수           2100 non-null   int64  \n",
            " 15  동물병원               2100 non-null   int64  \n",
            " 16  병원                 2100 non-null   int64  \n",
            " 17  약국                 2100 non-null   int64  \n",
            " 18  의원                 2100 non-null   int64  \n",
            " 19  휴게음식점              2100 non-null   int64  \n",
            " 20  일반음식점              2100 non-null   int64  \n",
            " 21  학교                 2100 non-null   int64  \n",
            "dtypes: float64(2), int64(20)\n",
            "memory usage: 441.9+ KB\n"
          ]
        }
      ]
    },
    {
      "cell_type": "code",
      "metadata": {
        "colab": {
          "base_uri": "https://localhost:8080/"
        },
        "id": "xnN32oR-p7CD",
        "outputId": "afda06a0-4db6-4df2-fda8-78a3d6623edf"
      },
      "source": [
        "#Standardization\n",
        "from sklearn.preprocessing import StandardScaler\n",
        "\n",
        "# Standardization 평균 0 / 분산 1\n",
        "scaler = StandardScaler()   \n",
        "\n",
        "scaler.fit(data)\n"
      ],
      "execution_count": null,
      "outputs": [
        {
          "output_type": "execute_result",
          "data": {
            "text/plain": [
              "StandardScaler()"
            ]
          },
          "metadata": {},
          "execution_count": 11
        }
      ]
    },
    {
      "cell_type": "code",
      "metadata": {
        "colab": {
          "base_uri": "https://localhost:8080/"
        },
        "id": "-JJIOH4vtnfZ",
        "outputId": "e4e2a776-262f-472b-8822-d985ed79f8b7"
      },
      "source": [
        "data_scaled = scaler.transform(data)\n",
        "data_scaled"
      ],
      "execution_count": null,
      "outputs": [
        {
          "output_type": "execute_result",
          "data": {
            "text/plain": [
              "array([[ 1.49616119,  0.61481975,  2.05096723, ...,  2.34437263,\n",
              "         3.23049686,  1.46414718],\n",
              "       [ 0.99076179,  0.32130523,  1.58552492, ..., -0.76575179,\n",
              "        -0.36942325,  0.21705366],\n",
              "       [-0.25329828, -0.21680474, -0.0536415 , ..., -1.28541418,\n",
              "        -0.56600233, -1.08672593],\n",
              "       ...,\n",
              "       [-1.69174274, -1.73329645, -1.95588402, ...,  0.79166539,\n",
              "         1.22160583, -0.51986524],\n",
              "       [-1.4196046 , -1.9289728 , -1.84458259, ...,  1.72266174,\n",
              "         0.77430958, -1.143412  ],\n",
              "       [-0.09779077,  0.37022431, -0.78215991, ..., -0.46117626,\n",
              "        -0.56389988, -0.51986524]])"
            ]
          },
          "metadata": {},
          "execution_count": 12
        }
      ]
    },
    {
      "cell_type": "markdown",
      "metadata": {
        "id": "sxKgPrqlwR29"
      },
      "source": [
        "# K-Means clustering"
      ]
    },
    {
      "cell_type": "code",
      "metadata": {
        "colab": {
          "base_uri": "https://localhost:8080/"
        },
        "id": "j16JB6z7waoj",
        "outputId": "6e82ae16-8e37-4ad3-9382-0292f8f57222"
      },
      "source": [
        "from sklearn.cluster import KMeans\n",
        "from sklearn.metrics import silhouette_score\n",
        "kmeans=KMeans(n_clusters=5 ,n_init=100)\n",
        "kmeans.fit(data_scaled)\n",
        "inertia=kmeans.inertia_\n",
        "print(inertia)"
      ],
      "execution_count": null,
      "outputs": [
        {
          "output_type": "stream",
          "name": "stdout",
          "text": [
            "20197.88147352098\n"
          ]
        }
      ]
    },
    {
      "cell_type": "code",
      "metadata": {
        "colab": {
          "base_uri": "https://localhost:8080/"
        },
        "id": "KtgXHRgWzJHH",
        "outputId": "d772e6fd-e0b9-4ce0-87be-ade8404010fe"
      },
      "source": [
        "inertia_arr=[]\n",
        "silhouette_score_arr = []\n",
        "kmeans_per_k = []\n",
        "k_range=range(2,15)\n",
        "\n",
        "for k in k_range:\n",
        "    kmeans=KMeans(n_clusters=k, random_state=300)\n",
        "    #k에 따라 학습시킨 결과인 kmeans\n",
        "    kmeans_per_k.append(kmeans.fit(data_scaled))\n",
        "    inertia=kmeans.inertia_\n",
        "    score=silhouette_score(data_scaled,kmeans.labels_)\n",
        "    print(f'k: {k}, inertia :{inertia:.4f}, silhouette_score: {score:.4f}')\n",
        "    inertia_arr.append(inertia)\n",
        "    silhouette_score_arr.append(score)\n",
        "inertia_arr=np.array(inertia_arr)"
      ],
      "execution_count": null,
      "outputs": [
        {
          "output_type": "stream",
          "name": "stdout",
          "text": [
            "k: 2, inertia :34732.4695, silhouette_score: 0.3401\n",
            "k: 3, inertia :27904.6957, silhouette_score: 0.2192\n",
            "k: 4, inertia :23501.8881, silhouette_score: 0.2477\n",
            "k: 5, inertia :20197.8815, silhouette_score: 0.2350\n",
            "k: 6, inertia :18628.2756, silhouette_score: 0.2283\n",
            "k: 7, inertia :17493.2233, silhouette_score: 0.2099\n",
            "k: 8, inertia :16446.6730, silhouette_score: 0.2214\n",
            "k: 9, inertia :15281.8371, silhouette_score: 0.2340\n",
            "k: 10, inertia :14636.0445, silhouette_score: 0.2328\n",
            "k: 11, inertia :13831.8651, silhouette_score: 0.2519\n",
            "k: 12, inertia :13169.3933, silhouette_score: 0.2473\n",
            "k: 13, inertia :12558.8669, silhouette_score: 0.2486\n",
            "k: 14, inertia :12194.9420, silhouette_score: 0.2467\n"
          ]
        }
      ]
    },
    {
      "cell_type": "code",
      "metadata": {
        "colab": {
          "base_uri": "https://localhost:8080/",
          "height": 295
        },
        "id": "GXDVe49uEZ1y",
        "outputId": "4b3d436d-6cd2-4393-aec3-cecec034fce9"
      },
      "source": [
        "import matplotlib.pyplot as plt\n",
        "\n",
        "plt.plot(k_range,inertia_arr)\n",
        "\n",
        "plt.vlines(5,ymin=inertia_arr.min()*0.9999, ymax=inertia_arr.max()*1.0003,linestyles='--',colors='r')\n",
        "plt.title(\"Elbow Method\")\n",
        "plt.xlabel(\"Number of clusters\")\n",
        "plt.ylabel(\"Inertia\")\n",
        "plt.show()"
      ],
      "execution_count": null,
      "outputs": [
        {
          "output_type": "display_data",
          "data": {
            "image/png": "[encoded data removed]",
            "text/plain": [
              "<Figure size 432x288 with 1 Axes>"
            ]
          },
          "metadata": {
            "needs_background": "light"
          }
        }
      ]
    },
    {
      "cell_type": "code",
      "metadata": {
        "colab": {
          "base_uri": "https://localhost:8080/",
          "height": 279
        },
        "id": "Oq5si9DDKbRy",
        "outputId": "a606d10e-47d2-400c-8140-9898aee00f23"
      },
      "source": [
        "plt.plot(k_range,silhouette_score_arr)\n",
        "\n",
        "plt.xlabel(\"Number of clusters\")\n",
        "plt.ylabel(\"silhouette_score\")\n",
        "plt.show()"
      ],
      "execution_count": null,
      "outputs": [
        {
          "output_type": "display_data",
          "data": {
            "image/png": "[encoded data removed]",
            "text/plain": [
              "<Figure size 432x288 with 1 Axes>"
            ]
          },
          "metadata": {
            "needs_background": "light"
          }
        }
      ]
    },
    {
      "cell_type": "code",
      "metadata": {
        "colab": {
          "base_uri": "https://localhost:8080/",
          "height": 541
        },
        "id": "CI7pYrSeYYHq",
        "outputId": "182f9773-444f-470a-bbd7-ecb2044d24da"
      },
      "source": [
        "from sklearn.metrics import silhouette_samples\n",
        "from matplotlib.ticker import FixedLocator, FixedFormatter\n",
        "import matplotlib as mpl\n",
        "\n",
        "plt.figure(figsize=(11, 9))\n",
        "\n",
        "for k in range(6,10):\n",
        "    plt.subplot(2, 2, k - 5)\n",
        "    \n",
        "    y_pred = kmeans_per_k[k - 2].labels_\n",
        "    silhouette_coefficients = silhouette_samples(data_scaled, y_pred)\n",
        "\n",
        "    padding = len(data_scaled) // 30\n",
        "    pos = padding\n",
        "    ticks = []\n",
        "    for i in range(k):\n",
        "        coeffs = silhouette_coefficients[y_pred == i]\n",
        "        coeffs.sort()\n",
        "\n",
        "        color = mpl.cm.Spectral(i / k)\n",
        "        plt.fill_betweenx(np.arange(pos, pos + len(coeffs)), 0, coeffs,\n",
        "                          facecolor=color, edgecolor=color, alpha=0.7)\n",
        "        ticks.append(pos + len(coeffs) // 2)\n",
        "        pos += len(coeffs) + padding\n",
        "\n",
        "    plt.gca().yaxis.set_major_locator(FixedLocator(ticks))\n",
        "    plt.gca().yaxis.set_major_formatter(FixedFormatter(range(k)))\n",
        "    if k in (3, 5):\n",
        "        plt.ylabel(\"Cluster\")\n",
        "    \n",
        "    # if k in (13, 14):\n",
        "    #     plt.gca().set_xticks([-0.1, 0, 0.2, 0.4, 0.6, 0.8, 1])\n",
        "    #     # plt.xlabel(\"Silhouette Coefficient\")\n",
        "    # else:\n",
        "    plt.tick_params(labelbottom=False)\n",
        "\n",
        "    plt.axvline(x=silhouette_score_arr[k - 2], color=\"red\", linestyle=\"--\")\n",
        "    plt.title(f\"$k={k}\\ silhouette\\ score={silhouette_score_arr[k - 2]:.4f}$\", fontsize=12)\n",
        "\n",
        "plt.show()"
      ],
      "execution_count": null,
      "outputs": [
        {
          "output_type": "display_data",
          "data": {
            "image/png": "[encoded data removed]",
            "text/plain": [
              "<Figure size 792x648 with 4 Axes>"
            ]
          },
          "metadata": {
            "needs_background": "light"
          }
        }
      ]
    },
    {
      "cell_type": "code",
      "metadata": {
        "colab": {
          "base_uri": "https://localhost:8080/"
        },
        "id": "zXUSA4epM9w_",
        "outputId": "38f3b239-159e-4c2a-aef6-9fd57d2ee7ff"
      },
      "source": [
        "kmeans_per_k"
      ],
      "execution_count": null,
      "outputs": [
        {
          "output_type": "execute_result",
          "data": {
            "text/plain": [
              "[KMeans(n_clusters=2, random_state=300),\n",
              " KMeans(n_clusters=3, random_state=300),\n",
              " KMeans(n_clusters=4, random_state=300),\n",
              " KMeans(n_clusters=5, random_state=300),\n",
              " KMeans(n_clusters=6, random_state=300),\n",
              " KMeans(n_clusters=7, random_state=300),\n",
              " KMeans(random_state=300),\n",
              " KMeans(n_clusters=9, random_state=300),\n",
              " KMeans(n_clusters=10, random_state=300),\n",
              " KMeans(n_clusters=11, random_state=300),\n",
              " KMeans(n_clusters=12, random_state=300),\n",
              " KMeans(n_clusters=13, random_state=300),\n",
              " KMeans(n_clusters=14, random_state=300)]"
            ]
          },
          "metadata": {},
          "execution_count": 18
        }
      ]
    },
    {
      "cell_type": "code",
      "metadata": {
        "colab": {
          "base_uri": "https://localhost:8080/"
        },
        "id": "vkb2QRR8w5vQ",
        "outputId": "7542c038-7f68-49ea-c720-e61cea105b30"
      },
      "source": [
        "k7 = kmeans_per_k[5]\n",
        "k7.labels_"
      ],
      "execution_count": null,
      "outputs": [
        {
          "output_type": "execute_result",
          "data": {
            "text/plain": [
              "array([6, 3, 3, ..., 0, 0, 5], dtype=int32)"
            ]
          },
          "metadata": {},
          "execution_count": 19
        }
      ]
    },
    {
      "cell_type": "code",
      "source": [
        "# k=4일 때 그룹별 구의 분포\n",
        "\n",
        "k4= kmeans_per_k[2]\n",
        "k4_res = {0: [], 1: [], 2: [], 3: [], 4: [] }\n",
        "for i, (index, _) in enumerate(data.iterrows()):\n",
        "    k4_res[k4.labels_[i]].append(index)\n",
        "\n",
        "gus = ['강남구', '강동구', '강북구', '강서구', '관악구', '광진구', '구로구', '금천구', '노원구', '도봉구', '동대문구', '동작구', \n",
        "      '마포구', '서대문구', '서초구', '성동구', '성북구', '송파구', '양천구', '영등포구', '용산구', '은평구', '종로구', '중구', '중랑구']\n",
        "for i, k in k4_res.items():\n",
        "    sum = 0\n",
        "    gu_dic = {key: 0 for key in gus}\n",
        "    year_dic = {str(key): 0 for key in range(2014, 2021)}\n",
        "    for index in k:\n",
        "        year = index[:4]\n",
        "        gu = index[8:]\n",
        "        gu_dic[gu] += 1\n",
        "        year_dic[year] += 1\n",
        "    print(f'k={i}')\n",
        "    for gu, cnt in gu_dic.items():\n",
        "        if cnt != 0:\n",
        "            print(f'{gu} {cnt}개')\n",
        "            sum += cnt\n",
        "    for year, cnt in year_dic.items():\n",
        "        if cnt != 0:\n",
        "            print(f'{year} {cnt}')\n",
        "    print(f'합계 {sum}')\n",
        "    "
      ],
      "metadata": {
        "colab": {
          "base_uri": "https://localhost:8080/"
        },
        "id": "2AFEr9zsbEQK",
        "outputId": "6b007c41-8bbe-40e3-ea21-aca9afa744bd"
      },
      "execution_count": null,
      "outputs": [
        {
          "output_type": "stream",
          "name": "stdout",
          "text": [
            "k=0\n",
            "강서구 84개\n",
            "노원구 84개\n",
            "송파구 84개\n",
            "2014 36\n",
            "2015 36\n",
            "2016 36\n",
            "2017 36\n",
            "2018 36\n",
            "2019 36\n",
            "2020 36\n",
            "합계 252\n",
            "k=1\n",
            "금천구 84개\n",
            "마포구 1개\n",
            "서대문구 84개\n",
            "성동구 9개\n",
            "용산구 84개\n",
            "종로구 84개\n",
            "중구 84개\n",
            "2014 60\n",
            "2015 60\n",
            "2016 60\n",
            "2017 60\n",
            "2018 60\n",
            "2019 61\n",
            "2020 69\n",
            "합계 430\n",
            "k=2\n",
            "강동구 84개\n",
            "강북구 84개\n",
            "관악구 84개\n",
            "광진구 84개\n",
            "구로구 84개\n",
            "도봉구 84개\n",
            "동대문구 84개\n",
            "동작구 84개\n",
            "마포구 83개\n",
            "서초구 84개\n",
            "성동구 75개\n",
            "성북구 84개\n",
            "양천구 84개\n",
            "영등포구 84개\n",
            "은평구 84개\n",
            "중랑구 84개\n",
            "2014 192\n",
            "2015 192\n",
            "2016 192\n",
            "2017 192\n",
            "2018 192\n",
            "2019 191\n",
            "2020 183\n",
            "합계 1334\n",
            "k=3\n",
            "강남구 84개\n",
            "2014 12\n",
            "2015 12\n",
            "2016 12\n",
            "2017 12\n",
            "2018 12\n",
            "2019 12\n",
            "2020 12\n",
            "합계 84\n",
            "k=4\n",
            "합계 0\n"
          ]
        }
      ]
    },
    {
      "cell_type": "code",
      "source": [
        "k4.cluster_centers_"
      ],
      "metadata": {
        "colab": {
          "base_uri": "https://localhost:8080/"
        },
        "id": "LdPBJbOmiogH",
        "outputId": "9fba67ba-0e9c-43db-bdd5-733c36eab9a6"
      },
      "execution_count": null,
      "outputs": [
        {
          "output_type": "execute_result",
          "data": {
            "text/plain": [
              "array([[ 1.37809067e+00,  1.37655983e+00,  1.47077042e+00,\n",
              "         1.48906931e+00, -6.84602287e-16,  1.78311664e+00,\n",
              "         1.01897489e-01, -1.28763248e-01,  1.46815436e+00,\n",
              "        -9.86041998e-02,  2.11465953e-01,  2.03678599e-01,\n",
              "         1.30942063e+00,  2.90716870e-01, -6.15256200e-02,\n",
              "         1.10300521e+00,  5.93594530e-01,  9.28062558e-01,\n",
              "         3.89690130e-01,  3.81533816e-01,  1.21183887e-01,\n",
              "         2.10051579e+00],\n",
              "       [-1.11992113e+00, -1.23170516e+00, -1.13364181e+00,\n",
              "        -1.26975286e+00,  3.77915658e-02, -1.23717838e+00,\n",
              "        -3.65695764e-01,  2.90706877e-01, -1.12360414e+00,\n",
              "        -9.79686673e-01, -8.65104215e-02, -1.17324925e-01,\n",
              "        -1.28195202e+00,  3.20373104e-01, -8.86715510e-01,\n",
              "        -9.73840258e-01, -8.17317536e-01, -8.18284222e-01,\n",
              "        -6.03896387e-01,  2.35523150e-02,  1.34035673e-02,\n",
              "        -9.29586875e-01],\n",
              "       [ 6.05047571e-02,  1.09456974e-01,  4.05634624e-02,\n",
              "         1.21356612e-01, -1.21816891e-02,  3.80414574e-02,\n",
              "        -1.39251946e-01, -5.45601563e-02, -6.20770833e-02,\n",
              "         3.52475952e-01, -3.95567615e-02, -2.44776481e-02,\n",
              "         1.40894006e-01, -3.89653606e-01,  3.28330373e-01,\n",
              "        -6.68459601e-02, -8.09399527e-02, -1.11557919e-01,\n",
              "        -1.49050104e-01, -2.90066417e-01, -2.48602902e-01,\n",
              "        -1.95811295e-01],\n",
              "       [ 6.37784426e-01,  4.37196875e-01,  7.46668732e-01,\n",
              "         1.05458868e-01, -3.18052463e-16,  3.79690549e-01,\n",
              "         3.77777509e+00, -2.35385359e-01,  2.33316324e+00,\n",
              "        -2.86778475e-01,  4.36652153e-01,  3.78284444e-01,\n",
              "         3.96580524e-01,  3.67591457e+00, -4.90483234e-01,\n",
              "         2.73769653e+00,  3.68850733e+00,  3.17629422e+00,\n",
              "         4.28936158e+00,  3.34136409e+00,  3.51588569e+00,\n",
              "         1.56672197e+00]])"
            ]
          },
          "metadata": {},
          "execution_count": 21
        }
      ]
    },
    {
      "cell_type": "code",
      "source": [
        "#k=5일 때 그룹당 구의 분포\n",
        "\n",
        "k5= kmeans_per_k[3]\n",
        "k5_res = {0: [], 1: [], 2: [], 3: [], 4: []}\n",
        "for i, (index, _) in enumerate(data.iterrows()):\n",
        "    k5_res[k5.labels_[i]].append(index)\n",
        "\n",
        "gus = ['강남구', '강동구', '강북구', '강서구', '관악구', '광진구', '구로구', '금천구', '노원구', '도봉구', '동대문구', '동작구', \n",
        "      '마포구', '서대문구', '서초구', '성동구', '성북구', '송파구', '양천구', '영등포구', '용산구', '은평구', '종로구', '중구', '중랑구']\n",
        "for i, k in k5_res.items():\n",
        "    sum = 0\n",
        "    gu_dic = {key: 0 for key in gus}\n",
        "    year_dic = {str(key): 0 for key in range(2014, 2021)}\n",
        "    for index in k:\n",
        "        year = index[:4]\n",
        "        gu = index[8:]\n",
        "        gu_dic[gu] += 1\n",
        "        year_dic[year] += 1\n",
        "    print(f'k={i}')\n",
        "    for gu, cnt in gu_dic.items():\n",
        "        if cnt != 0:\n",
        "            print(f'{gu} {cnt}개')\n",
        "            sum += cnt\n",
        "    for year, cnt in year_dic.items():\n",
        "        if cnt != 0:\n",
        "            print(f'{year} {cnt}')\n",
        "    print(f'합계 {sum}')\n",
        "    "
      ],
      "metadata": {
        "colab": {
          "base_uri": "https://localhost:8080/"
        },
        "id": "CRRygRRjdRpX",
        "outputId": "6285ccc2-7958-4d4d-a6ab-205c5fc84348"
      },
      "execution_count": null,
      "outputs": [
        {
          "output_type": "stream",
          "name": "stdout",
          "text": [
            "k=0\n",
            "강서구 84개\n",
            "노원구 84개\n",
            "송파구 84개\n",
            "2014 36\n",
            "2015 36\n",
            "2016 36\n",
            "2017 36\n",
            "2018 36\n",
            "2019 36\n",
            "2020 36\n",
            "합계 252\n",
            "k=1\n",
            "강동구 37개\n",
            "강북구 35개\n",
            "관악구 37개\n",
            "광진구 44개\n",
            "구로구 38개\n",
            "도봉구 27개\n",
            "동대문구 54개\n",
            "동작구 37개\n",
            "마포구 60개\n",
            "서대문구 4개\n",
            "서초구 43개\n",
            "성동구 54개\n",
            "성북구 38개\n",
            "양천구 38개\n",
            "영등포구 55개\n",
            "은평구 38개\n",
            "중랑구 35개\n",
            "2016 31\n",
            "2017 74\n",
            "2018 183\n",
            "2019 192\n",
            "2020 194\n",
            "합계 674\n",
            "k=2\n",
            "강남구 84개\n",
            "2014 12\n",
            "2015 12\n",
            "2016 12\n",
            "2017 12\n",
            "2018 12\n",
            "2019 12\n",
            "2020 12\n",
            "합계 84\n",
            "k=3\n",
            "강동구 47개\n",
            "강북구 49개\n",
            "관악구 47개\n",
            "광진구 40개\n",
            "구로구 46개\n",
            "도봉구 57개\n",
            "동대문구 30개\n",
            "동작구 47개\n",
            "마포구 24개\n",
            "서대문구 3개\n",
            "서초구 41개\n",
            "성동구 30개\n",
            "성북구 46개\n",
            "양천구 46개\n",
            "영등포구 29개\n",
            "은평구 46개\n",
            "중랑구 49개\n",
            "2014 195\n",
            "2015 192\n",
            "2016 161\n",
            "2017 118\n",
            "2018 11\n",
            "합계 677\n",
            "k=4\n",
            "금천구 84개\n",
            "서대문구 77개\n",
            "용산구 84개\n",
            "종로구 84개\n",
            "중구 84개\n",
            "2014 57\n",
            "2015 60\n",
            "2016 60\n",
            "2017 60\n",
            "2018 58\n",
            "2019 60\n",
            "2020 58\n",
            "합계 413\n"
          ]
        }
      ]
    },
    {
      "cell_type": "markdown",
      "source": [
        "# 클러스터 개수가 5개일 때 2018 년을 기준으로 k=1,3 클러스터가 나뉘는 이유"
      ],
      "metadata": {
        "id": "O8qPVyxMPLBu"
      }
    },
    {
      "cell_type": "code",
      "source": [
        "#k=5일 때의 각 중심의 위치\n",
        "kmeans_per_k[3].cluster_centers_"
      ],
      "metadata": {
        "colab": {
          "base_uri": "https://localhost:8080/"
        },
        "id": "8KJZ6xFCtlo1",
        "outputId": "84812777-4d28-4766-cb58-cb50397887aa"
      },
      "execution_count": null,
      "outputs": [
        {
          "output_type": "execute_result",
          "data": {
            "text/plain": [
              "array([[ 1.37809067e+00,  1.37655983e+00,  1.47077042e+00,\n",
              "         1.48906931e+00, -6.84602287e-16,  1.78311664e+00,\n",
              "         1.01897489e-01, -1.28763248e-01,  1.46815436e+00,\n",
              "        -9.86041998e-02,  2.11465953e-01,  2.03678599e-01,\n",
              "         1.30942063e+00,  2.90716870e-01, -6.15256200e-02,\n",
              "         1.10300521e+00,  5.93594530e-01,  9.28062558e-01,\n",
              "         3.89690130e-01,  3.81533816e-01,  1.21183887e-01,\n",
              "         2.10051579e+00],\n",
              "       [-1.92714187e-01, -9.45070184e-02, -3.72863715e-01,\n",
              "         1.26910691e-01,  8.08260523e-01, -7.77790864e-02,\n",
              "        -7.54119539e-02,  1.00902434e-01, -3.70805268e-02,\n",
              "         3.17053555e-01,  8.04526556e-01,  8.15718092e-01,\n",
              "         9.36462398e-02, -3.00438928e-01,  1.87256961e-01,\n",
              "         1.56469886e-02, -5.50436487e-02, -7.38292778e-02,\n",
              "        -1.04723815e-01,  4.59678482e-03, -1.52758599e-01,\n",
              "        -2.11708331e-01],\n",
              "       [ 6.37784426e-01,  4.37196875e-01,  7.46668732e-01,\n",
              "         1.05458868e-01, -3.18052463e-16,  3.79690549e-01,\n",
              "         3.77777509e+00, -2.35385359e-01,  2.33316324e+00,\n",
              "        -2.86778475e-01,  4.36652153e-01,  3.78284444e-01,\n",
              "         3.96580524e-01,  3.67591457e+00, -4.90483234e-01,\n",
              "         2.73769653e+00,  3.68850733e+00,  3.17629422e+00,\n",
              "         4.28936158e+00,  3.34136409e+00,  3.51588569e+00,\n",
              "         1.56672197e+00],\n",
              "       [ 2.95533732e-01,  2.89439174e-01,  4.35908399e-01,\n",
              "         1.03081591e-01, -8.05024646e-01,  1.37471736e-01,\n",
              "        -2.08830586e-01, -2.10192670e-01, -1.00467470e-01,\n",
              "         3.76951934e-01, -8.60803464e-01, -8.43128078e-01,\n",
              "         1.64602620e-01, -4.75407626e-01,  4.38368058e-01,\n",
              "        -1.55736897e-01, -1.21724088e-01, -1.65359240e-01,\n",
              "        -2.02106064e-01, -5.81215723e-01, -3.47762892e-01,\n",
              "        -1.94820454e-01],\n",
              "       [-1.14053200e+00, -1.24908040e+00, -1.15533695e+00,\n",
              "        -1.30612120e+00,  5.66810101e-04, -1.26364324e+00,\n",
              "        -3.65146032e-01,  3.06326648e-01, -1.14516189e+00,\n",
              "        -1.01683512e+00, -1.19746137e-01, -1.50361224e-01,\n",
              "        -1.30227676e+00,  3.44574638e-01, -8.86879708e-01,\n",
              "        -1.00008720e+00, -8.23035862e-01, -8.20753851e-01,\n",
              "        -6.07986994e-01,  3.28419040e-02,  3.03197013e-02,\n",
              "        -9.35471578e-01]])"
            ]
          },
          "metadata": {},
          "execution_count": 23
        }
      ]
    },
    {
      "cell_type": "code",
      "source": [
        "#k=1과 k=3의 중심값의 차이 \n",
        "kmeans_per_k[3].cluster_centers_[1]-kmeans_per_k[3].cluster_centers_[3]"
      ],
      "metadata": {
        "colab": {
          "base_uri": "https://localhost:8080/"
        },
        "id": "5nz8BNlEn0dV",
        "outputId": "7bcff332-b73e-4eac-ef15-22b47bf97f39"
      },
      "execution_count": null,
      "outputs": [
        {
          "output_type": "execute_result",
          "data": {
            "text/plain": [
              "array([-0.488248, -0.383946, -0.808772,  0.023829,  1.613285, -0.215251,\n",
              "        0.133419,  0.311095,  0.063387, -0.059898,  1.66533 ,  1.658846,\n",
              "       -0.070956,  0.174969, -0.251111,  0.171384,  0.06668 ,  0.09153 ,\n",
              "        0.097382,  0.585813,  0.195004, -0.016888])"
            ]
          },
          "metadata": {},
          "execution_count": 64
        }
      ]
    },
    {
      "cell_type": "code",
      "source": [
        "print(data.iloc[:1200,2].mean())\n",
        "print(data.iloc[1200:,2].mean())\n",
        "print(data[\"출생\"].mean())\n"
      ],
      "metadata": {
        "colab": {
          "base_uri": "https://localhost:8080/"
        },
        "id": "NGBQoG6u183f",
        "outputId": "b6e23b0c-dc81-4b03-f062-bcb7d4b99c74"
      },
      "execution_count": null,
      "outputs": [
        {
          "output_type": "stream",
          "name": "stdout",
          "text": [
            "256.3675\n",
            "176.88\n",
            "222.30142857142857\n"
          ]
        }
      ]
    },
    {
      "cell_type": "code",
      "source": [
        "print(data.iloc[:1200,11].mean())\n",
        "print(data.iloc[1200:,11].mean())\n",
        "print(data[\"누적 보관소\"].mean())"
      ],
      "metadata": {
        "colab": {
          "base_uri": "https://localhost:8080/"
        },
        "id": "HxCu4vXTLIBN",
        "outputId": "d32f619f-8d66-4688-ab93-70218c6f6072"
      },
      "execution_count": null,
      "outputs": [
        {
          "output_type": "stream",
          "name": "stdout",
          "text": [
            "135.2675\n",
            "789.1355555555556\n",
            "32.268095238095235\n"
          ]
        }
      ]
    },
    {
      "cell_type": "markdown",
      "source": [
        "# K=4 일 때 강남 비교"
      ],
      "metadata": {
        "id": "ClA2HJ5keK2N"
      }
    },
    {
      "cell_type": "code",
      "source": [
        "np.set_printoptions(precision=6, suppress=True)\n",
        "kmeans_per_k[2].cluster_centers_[3]-kmeans_per_k[2].cluster_centers_[0]"
      ],
      "metadata": {
        "colab": {
          "base_uri": "https://localhost:8080/"
        },
        "id": "TPotPtp0eKBh",
        "outputId": "89e691f8-5788-4216-98ce-b1ecccea8b27"
      },
      "execution_count": null,
      "outputs": [
        {
          "output_type": "execute_result",
          "data": {
            "text/plain": [
              "array([-0.740306, -0.939363, -0.724102, -1.38361 ,  0.      , -1.403426,\n",
              "        3.675878, -0.106622,  0.865009, -0.188174,  0.225186,  0.174606,\n",
              "       -0.91284 ,  3.385198, -0.428958,  1.634691,  3.094913,  2.248232,\n",
              "        3.899671,  2.95983 ,  3.394702, -0.533794])"
            ]
          },
          "metadata": {},
          "execution_count": 58
        }
      ]
    },
    {
      "cell_type": "code",
      "source": [
        "kmeans_per_k[2].cluster_centers_[3]-kmeans_per_k[2].cluster_centers_[1]"
      ],
      "metadata": {
        "colab": {
          "base_uri": "https://localhost:8080/"
        },
        "id": "fLuaS_9FeiXK",
        "outputId": "a4a15f5c-5d11-4b57-a049-35e29a327549"
      },
      "execution_count": null,
      "outputs": [
        {
          "output_type": "execute_result",
          "data": {
            "text/plain": [
              "array([ 1.757706,  1.668902,  1.880311,  1.375212, -0.037792,  1.616869,\n",
              "        4.143471, -0.526092,  3.456767,  0.692908,  0.523163,  0.495609,\n",
              "        1.678533,  3.355541,  0.396232,  3.711537,  4.505825,  3.994578,\n",
              "        4.893258,  3.317812,  3.502482,  2.496309])"
            ]
          },
          "metadata": {},
          "execution_count": 59
        }
      ]
    },
    {
      "cell_type": "code",
      "source": [
        "kmeans_per_k[2].cluster_centers_[3]-kmeans_per_k[2].cluster_centers_[2]"
      ],
      "metadata": {
        "colab": {
          "base_uri": "https://localhost:8080/"
        },
        "id": "I3IyZQQNgTMw",
        "outputId": "2eb73e2f-89ac-4722-ad1b-6f7fa9516e82"
      },
      "execution_count": null,
      "outputs": [
        {
          "output_type": "execute_result",
          "data": {
            "text/plain": [
              "array([ 0.57728 ,  0.32774 ,  0.706105, -0.015898,  0.012182,  0.341649,\n",
              "        3.917027, -0.180825,  2.39524 , -0.639254,  0.476209,  0.402762,\n",
              "        0.255687,  4.065568, -0.818814,  2.804542,  3.769447,  3.287852,\n",
              "        4.438412,  3.631431,  3.764489,  1.762533])"
            ]
          },
          "metadata": {},
          "execution_count": 60
        }
      ]
    },
    {
      "cell_type": "markdown",
      "source": [
        "# k=4일 때 노원,송파,강서구 묶인 이유"
      ],
      "metadata": {
        "id": "Fnj8JxFPo6_y"
      }
    },
    {
      "cell_type": "code",
      "source": [
        "kmeans_per_k[2].cluster_centers_[0]-kmeans_per_k[2].cluster_centers_[1]"
      ],
      "metadata": {
        "colab": {
          "base_uri": "https://localhost:8080/"
        },
        "id": "JQ9_-OwDpAqA",
        "outputId": "7a7f7978-3df4-4823-e32d-477994e85a08"
      },
      "execution_count": null,
      "outputs": [
        {
          "output_type": "execute_result",
          "data": {
            "text/plain": [
              "array([ 2.498012,  2.608265,  2.604412,  2.758822, -0.037792,  3.020295,\n",
              "        0.467593, -0.41947 ,  2.591759,  0.881082,  0.297976,  0.321004,\n",
              "        2.591373, -0.029656,  0.82519 ,  2.076845,  1.410912,  1.746347,\n",
              "        0.993587,  0.357982,  0.10778 ,  3.030103])"
            ]
          },
          "metadata": {},
          "execution_count": 61
        }
      ]
    },
    {
      "cell_type": "code",
      "source": [
        "kmeans_per_k[2].cluster_centers_[0]-kmeans_per_k[2].cluster_centers_[2]"
      ],
      "metadata": {
        "colab": {
          "base_uri": "https://localhost:8080/"
        },
        "id": "4CKaxvARpe8b",
        "outputId": "4de878ec-148d-48f8-a366-5c49772ba36f"
      },
      "execution_count": null,
      "outputs": [
        {
          "output_type": "execute_result",
          "data": {
            "text/plain": [
              "array([ 1.317586,  1.267103,  1.430207,  1.367713,  0.012182,  1.745075,\n",
              "        0.241149, -0.074203,  1.530231, -0.45108 ,  0.251023,  0.228156,\n",
              "        1.168527,  0.68037 , -0.389856,  1.169851,  0.674534,  1.03962 ,\n",
              "        0.53874 ,  0.6716  ,  0.369787,  2.296327])"
            ]
          },
          "metadata": {},
          "execution_count": 62
        }
      ]
    },
    {
      "cell_type": "markdown",
      "source": [
        "# K=4일 때 금천구,서대문구,용산구,종로구,중구 묶인 이유\n"
      ],
      "metadata": {
        "id": "dxM13Oze6CuG"
      }
    },
    {
      "cell_type": "code",
      "source": [
        "kmeans_per_k[2].cluster_centers_[1]-kmeans_per_k[2].cluster_centers_[2]"
      ],
      "metadata": {
        "colab": {
          "base_uri": "https://localhost:8080/"
        },
        "id": "78-emA206KXc",
        "outputId": "efe3cb77-9ae5-4598-f232-af4611e5ace3"
      },
      "execution_count": null,
      "outputs": [
        {
          "output_type": "execute_result",
          "data": {
            "text/plain": [
              "array([-1.180426, -1.341162, -1.174205, -1.391109,  0.049973, -1.27522 ,\n",
              "       -0.226444,  0.345267, -1.061527, -1.332163, -0.046954, -0.092847,\n",
              "       -1.422846,  0.710027, -1.215046, -0.906994, -0.736378, -0.706726,\n",
              "       -0.454846,  0.313619,  0.262006, -0.733776])"
            ]
          },
          "metadata": {},
          "execution_count": 63
        }
      ]
    }
  ]
}